{
 "cells": [
  {
   "cell_type": "markdown",
   "metadata": {},
   "source": [
    "# SOONAR Sort \n",
    "Reformatting the SOONAR directory as specified by the SOONARDIR.pdf"
   ]
  },
  {
   "cell_type": "markdown",
   "metadata": {},
   "source": [
    "Imports (below)"
   ]
  },
  {
   "cell_type": "code",
   "execution_count": null,
   "metadata": {
    "collapsed": false
   },
   "outputs": [],
   "source": [
    "%matplotlib inline\n",
    "import os\n",
    "from os import path\n",
    "import shutil\n",
    "import datetime as dt\n",
    "import math\n",
    "import numpy as np\n",
    "import pickle\n",
    "import matplotlib.pyplot as plt\n",
    "from astropy.io import fits\n",
    "from astropy.visualization import astropy_mpl_style\n",
    "plt.style.use(astropy_mpl_style)"
   ]
  },
  {
   "cell_type": "markdown",
   "metadata": {},
   "source": [
    "clean_data.py (below)"
   ]
  },
  {
   "cell_type": "code",
   "execution_count": null,
   "metadata": {
    "collapsed": true
   },
   "outputs": [],
   "source": [
    "#Iterate through every .FIT files on the SSD\n",
    "for subdir, dirs, files in os.walk('/Volumes/SOONAR FAST'):\n",
    "    for file in files:\n",
    "        target_file = subdir + os.sep + file\n",
    "        broken_loc = path.expanduser('~/Desktop/Broken Files/') + file\n",
    "        if (target_file.endswith(\".FIT\")):\n",
    "            FITS_file = target_file\n",
    "            #Try to open its image and header data\n",
    "            try:\n",
    "                image_data = fits.getdata(FITS_file, ext=0)\n",
    "                hdr = fits.open(FITS_file)[0].header\n",
    "            #If this fails move the file to a separate folder\n",
    "            except (OSError, TypeError):\n",
    "                print(FITS_file)\n",
    "                shutil.move(FITS_file, broken_loc)"
   ]
  },
  {
   "cell_type": "markdown",
   "metadata": {},
   "source": [
    "SOONAR_Sort_SSD.py (below)"
   ]
  },
  {
   "cell_type": "code",
   "execution_count": null,
   "metadata": {
    "collapsed": false
   },
   "outputs": [],
   "source": [
    "#Iterate through every directory on the SSD\n",
    "for direc in os.listdir('/Volumes/SOONAR FAST'):\n",
    "    #If it is a current SOONAR directory (ends with '_SOON_All')\n",
    "    if (direc.endswith('_SOON_All')):\n",
    "            print('/Volumes/SOONAR FAST'+'/'+direc)\n",
    "            #Create temporary pickle files\n",
    "            create_temp_files('/Volumes/SOONAR FAST'+'/'+direc)\n",
    "print('convert .pkl to .FIT')\n",
    "#Sort pickle files and write them to .FIT\n",
    "convert_SOONAR_dir()"
   ]
  },
  {
   "cell_type": "code",
   "execution_count": null,
   "metadata": {
    "collapsed": false
   },
   "outputs": [],
   "source": [
    "def create_temp_files(folder):\n",
    "    file_count = 0\n",
    "    directory = os.fsencode(folder)\n",
    "    #If directory SOONAR is not created\n",
    "    if not os.path.exists('/Volumes/SOONAR FAST/SOONAR'):\n",
    "        #Create SOONAR direcotry\n",
    "        os.makedirs('/Volumes/SOONAR FAST/SOONAR')\n",
    "    #Iterate through .fit files in initial folder\n",
    "    for file in os.listdir(directory):\n",
    "        target_folder = '/Volumes/SOONAR FAST/SOONAR'\n",
    "        filename = os.fsdecode(file)\n",
    "        if filename.endswith(\".FIT\"):\n",
    "            #Extract image, header, date, and time data\n",
    "            FITS_file = folder+'/'+filename\n",
    "            image_data = fits.getdata(FITS_file, ext=0)\n",
    "            hdr = fits.open(FITS_file)[0].header\n",
    "            date_str = hdr['DATE-OBS']\n",
    "            time_str = hdr['TIME-OBS']\n",
    "            date_time = dt.datetime.strptime(date_str+' '+time_str, '%Y-%m-%d %H:%M:%S')\n",
    "            #If year folder is not created\n",
    "            if not os.path.exists(target_folder+'/'+date_str[0:4]):\n",
    "                #create year folder\n",
    "                os.makedirs(target_folder+'/'+date_str[0:4])\n",
    "            #If month folder is not created\n",
    "            if not os.path.exists(target_folder+'/'+date_str[0:4]+'/'+date_str[5:7]+date_time.strftime('%b').upper()):\n",
    "                #create month folder\n",
    "                os.makedirs(target_folder+'/'+date_str[0:4]+'/'+date_str[5:7]+date_time.strftime('%b').upper())\n",
    "            #If day folder is not created\n",
    "            if not os.path.exists(target_folder+'/'+date_str[0:4]+'/'+date_str[5:7]+date_time.strftime('%b').upper()+'/'+date_str[8:10]):\n",
    "                #create day folder\n",
    "                os.makedirs(target_folder+'/'+date_str[0:4]+'/'+date_str[5:7]+date_time.strftime('%b').upper()+'/'+date_str[8:10])\n",
    "            #Set target_folder to created directory\n",
    "            target_folder = target_folder+'/'+date_str[0:4]+'/'+date_str[5:7]+date_time.strftime('%b').upper()+'/'+date_str[8:10]\n",
    "            #If new solar region-observatory combination\n",
    "            temp_name = hdr['OBJECT']+'-'+hdr['ORIGIN'][0:4]\n",
    "            target_file = target_folder+'/'+temp_name+'.pkl'\n",
    "            if not os.path.exists(target_file):\n",
    "                #Create temporary .pkl file holding (unsorted) date_time, header, and image_data for that solar region-observatory combination\n",
    "                save_file = open(target_file, 'wb')\n",
    "                pickle.dump([[date_time], [hdr], [image_data]], save_file)\n",
    "                save_file.close()\n",
    "            else:\n",
    "                #Add and save date_time, header, and image_data to existing temporary .pkl file for given solar region-observatory combination\n",
    "                open_file = open(target_file, 'rb')\n",
    "                open_array = pickle.load(open_file)\n",
    "                open_file.close()\n",
    "                dt_array = open_array[0]\n",
    "                hdr_array = open_array[1]\n",
    "                id_array = open_array[2]\n",
    "                dt_array.append(date_time)\n",
    "                hdr_array.append(hdr)\n",
    "                id_array.append(image_data)\n",
    "                save_file = open(target_file, 'wb')\n",
    "                pickle.dump([dt_array, hdr_array, id_array], save_file)\n",
    "                save_file.close()\n",
    "            #Troubleshooting Output\n",
    "            file_count += 1\n",
    "            print(str(file_count)+') ' +filename)\n",
    "            #print(date_time)\n",
    "            #print(temp_name)"
   ]
  },
  {
   "cell_type": "code",
   "execution_count": null,
   "metadata": {
    "collapsed": false
   },
   "outputs": [],
   "source": [
    "def convert_SOONAR_dir():\n",
    "    #For every file (recusive) in SOONAR directory\n",
    "    for subdir, dirs, files in os.walk('/Volumes/SOONAR FAST/SOONAR'):\n",
    "        for file in files:\n",
    "            target_folder = subdir + os.sep\n",
    "            target_file = subdir + os.sep + file\n",
    "            #If it is a .npy file\n",
    "            if (target_file.endswith(\".pkl\")):\n",
    "                print(target_file)\n",
    "                #Extract data (as a list)\n",
    "                open_file = open(target_file, 'rb')\n",
    "                open_array = pickle.load(open_file)\n",
    "                open_file.close()\n",
    "                dt_array = open_array[0]\n",
    "                hdr_array = open_array[1]\n",
    "                id_array = open_array[2]\n",
    "                #Sort data\n",
    "                sorted_array = sorted (zip (dt_array, hdr_array, id_array), key=lambda x: x[0])\n",
    "                #Write sorted data to a .fit file\n",
    "                write_to_fits(target_folder+'/'+sorted_array[0][0].strftime('%H%M')+'-'+sorted_array[-1][0].strftime('%H%M')+'-'+file[0:9]+'.FIT', sorted_array)\n",
    "                #Delete .pkl file\n",
    "                os.remove(target_file)"
   ]
  },
  {
   "cell_type": "code",
   "execution_count": null,
   "metadata": {
    "collapsed": true
   },
   "outputs": [],
   "source": [
    "def write_to_fits (target_loc, sorted_array):\n",
    "    #Create HDUL(ist)\n",
    "    new_hdul = fits.HDUList()\n",
    "    #Add (sorted) images to the .fit file\n",
    "    for i in range(0,len(sorted_array)):\n",
    "        new_hdul.append(fits.ImageHDU(sorted_array[i][2], sorted_array[i][1]))\n",
    "    new_hdul.writeto(target_loc, overwrite = True, output_verify = \"fix\")"
   ]
  },
  {
   "cell_type": "markdown",
   "metadata": {},
   "source": [
    "## Testing"
   ]
  },
  {
   "cell_type": "code",
   "execution_count": null,
   "metadata": {
    "collapsed": false
   },
   "outputs": [],
   "source": [
    "#Quick sanity check of .FIT files produced by algorithm\n",
    "FITS_file_test = '/Volumes/SOONAR FAST/SOONAR/2013/06JUN/18/1209-1724-1767-SANV.FIT'\n",
    "fits.info(FITS_file_test)\n",
    "image_data_test = fits.getdata(FITS_file_test, ext=0)\n",
    "hdr_test = fits.open(FITS_file_test)[0].header\n",
    "print(hdr_test)\n",
    "plt.imshow(image_data_test)"
   ]
  },
  {
   "cell_type": "code",
   "execution_count": null,
   "metadata": {
    "collapsed": false
   },
   "outputs": [],
   "source": [
    "#Check Broken Files to see which error they invoke\n",
    "for file in os.listdir('/Volumes/SOONAR FAST/Broken Files'):\n",
    "    if file.endswith('.FIT'):\n",
    "        FITS_file = file\n",
    "        try:\n",
    "            image_data = fits.getdata(FITS_file, ext=0)\n",
    "            hdr = fits.open(FITS_file)[0].header\n",
    "        except(TypeError):\n",
    "            print('TypeError ' + FITS_file)\n",
    "        except(OSError):\n",
    "            print('OSError ' + FITS_file)"
   ]
  }
 ],
 "metadata": {
  "anaconda-cloud": {},
  "celltoolbar": "Raw Cell Format",
  "kernelspec": {
   "display_name": "Python [anaconda]",
   "language": "python",
   "name": "Python [anaconda]"
  },
  "language_info": {
   "codemirror_mode": {
    "name": "ipython",
    "version": 3
   },
   "file_extension": ".py",
   "mimetype": "text/x-python",
   "name": "python",
   "nbconvert_exporter": "python",
   "pygments_lexer": "ipython3",
   "version": "3.5.4"
  }
 },
 "nbformat": 4,
 "nbformat_minor": 1
}
